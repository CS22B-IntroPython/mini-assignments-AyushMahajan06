{
  "cells": [
    {
      "cell_type": "markdown",
      "source": [
        "##**Stack Questions**"
      ],
      "metadata": {
        "id": "cP32wAV3Yi-4"
      }
    },
    {
      "cell_type": "markdown",
      "source": [
        "## Question 1: Write a function to sort a stack."
      ],
      "metadata": {
        "id": "KqdNjm1oY_ss"
      }
    },
    {
      "cell_type": "code",
      "source": [
        "def sort_stack(stack):\n",
        "  temp_stack = []\n",
        "\n",
        "  while stack:\n",
        "      temp = stack.pop()\n",
        "\n",
        "      while temp_stack and temp_stack[-1] > temp:\n",
        "          stack.append(temp_stack.pop())\n",
        "\n",
        "      temp_stack.append(temp)\n",
        "\n",
        "  return temp_stack\n",
        "\n",
        "stack = [34, 3, 31, 98, 92, 23]\n",
        "print(sort_stack(stack))"
      ],
      "metadata": {
        "id": "mb9K46p3Ym0N",
        "colab": {
          "base_uri": "https://localhost:8080/"
        },
        "outputId": "218b1d1e-0e04-41d3-85b7-f74c6dae30e9"
      },
      "execution_count": 2,
      "outputs": [
        {
          "output_type": "stream",
          "name": "stdout",
          "text": [
            "[3, 23, 31, 34, 92, 98]\n"
          ]
        }
      ]
    },
    {
      "cell_type": "markdown",
      "metadata": {
        "id": "jFxb6ss_Whwl"
      },
      "source": [
        "## Question 2: Depict the following image as a list.\n",
        "\n",
        "<img src=\"https://miro.medium.com/max/1050/1*XifPIMxbamGKhz5UAEdz2w.png\">\n",
        "\n",
        "#### Queue\n",
        "1. Add the number 9 to the list.\n",
        "2. Remove the first number (7) from the list.\n",
        "\n",
        "#### Stack\n",
        "3. Add the number 4 to the same list.\n",
        "4. Remove the last number added (4) from the list."
      ]
    },
    {
      "cell_type": "code",
      "execution_count": 5,
      "metadata": {
        "id": "XOm7YLTEWhwm",
        "colab": {
          "base_uri": "https://localhost:8080/"
        },
        "outputId": "79ca6423-38b6-42aa-c074-980c9d003dd7"
      },
      "outputs": [
        {
          "output_type": "stream",
          "name": "stdout",
          "text": [
            "After adding 9: [7, 5, 3, 9]\n",
            "After removing 7: [5, 3, 9]\n",
            "After adding 4: [5, 3, 9, 4]\n",
            "After removing 4: [5, 3, 9]\n"
          ]
        }
      ],
      "source": [
        "queue_list = [7, 5, 3]\n",
        "\n",
        "queue_list.append(9)\n",
        "print(\"After adding 9:\", queue_list)\n",
        "queue_list.pop(0)\n",
        "print(\"After removing 7:\", queue_list)\n",
        "\n",
        "\n",
        "queue_list.append(4)\n",
        "print(\"After adding 4:\", queue_list)\n",
        "queue_list.pop()\n",
        "print(\"After removing 4:\", queue_list)\n"
      ]
    },
    {
      "cell_type": "markdown",
      "metadata": {
        "id": "tQ3kgHVtWhwn"
      },
      "source": [
        "#### Question 3: Nodes\n",
        "\n",
        "<img src=\"https://encrypted-tbn0.gstatic.com/images?q=tbn:ANd9GcQW8-twGk0hCILE-muHBnG93hZJh2Qvgs7pVA&s\">\n",
        "\n",
        "1. Use a data structure of your choice to denote the different nodes.\n",
        "\n",
        "2. Create a function that sums all of the \"children\". Test with the node 10 (Expected answer is 37).\n"
      ]
    },
    {
      "cell_type": "code",
      "execution_count": 6,
      "metadata": {
        "id": "UU0rjzjXWhwn",
        "colab": {
          "base_uri": "https://localhost:8080/"
        },
        "outputId": "cf2c1fe4-ccc0-455a-b783-9ab5c1c3f2bc"
      },
      "outputs": [
        {
          "output_type": "stream",
          "name": "stdout",
          "text": [
            "Sum of children: 37\n"
          ]
        }
      ],
      "source": [
        "class Node:\n",
        "    def __init__(self, value):\n",
        "        self.value = value\n",
        "        self.children = []\n",
        "\n",
        "def sum_children(node):\n",
        "    total = 0\n",
        "    for child in node.children:\n",
        "        total += child.value\n",
        "    return total\n",
        "\n",
        "node10 = Node(10)\n",
        "node20 = Node(20)\n",
        "node15 = Node(15)\n",
        "node2 = Node(2)\n",
        "\n",
        "node10.children = [node20, node15, node2]\n",
        "\n",
        "sum_of_children = sum_children(node10)\n",
        "print(\"Sum of children:\", sum_of_children)\n"
      ]
    }
  ],
  "metadata": {
    "hide_input": false,
    "kernelspec": {
      "display_name": "Python 3",
      "language": "python",
      "name": "python3"
    },
    "language_info": {
      "codemirror_mode": {
        "name": "ipython",
        "version": 3
      },
      "file_extension": ".py",
      "mimetype": "text/x-python",
      "name": "python",
      "nbconvert_exporter": "python",
      "pygments_lexer": "ipython3",
      "version": "3.8.3"
    },
    "toc": {
      "base_numbering": 1,
      "nav_menu": {},
      "number_sections": true,
      "sideBar": true,
      "skip_h1_title": false,
      "title_cell": "Table of Contents",
      "title_sidebar": "Contents",
      "toc_cell": false,
      "toc_position": {},
      "toc_section_display": true,
      "toc_window_display": false
    },
    "colab": {
      "provenance": []
    }
  },
  "nbformat": 4,
  "nbformat_minor": 0
}