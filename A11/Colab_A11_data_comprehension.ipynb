{
  "cells": [
    {
      "cell_type": "markdown",
      "source": [
        "# Data comprehension\n",
        "Practice working with list comprehension, dictionary comprehension and set comprehension following Lec 11"
      ],
      "metadata": {
        "id": "-ZHVRHMui18N"
      }
    },
    {
      "cell_type": "markdown",
      "metadata": {
        "id": "INt5QZg_yTgG"
      },
      "source": [
        "**Ques 1:**\n",
        "You are given the list below, make column 0(the words) the key for a dictionary with the values as the rest of the list.\n",
        "\n",
        "```\n",
        "list_pos = [\n",
        "    ['drawer', 141, 2, 3],\n",
        "    ['hedge', 213, 1, 6],\n",
        "    ['pantry', 328, 1, 7]\n",
        "]\n",
        "\n",
        "list_pos\n",
        "\n",
        "# You output should be:\n",
        "\n",
        "{'drawer': [141, 2, 3], 'hedge': [213, 1, 6], 'pantry': [328, 1, 7]}\n",
        "\n",
        "```\n",
        "\n",
        "Requirement: Do both traditional loops and list comprehensions.\n"
      ]
    },
    {
      "cell_type": "code",
      "execution_count": 9,
      "metadata": {
        "colab": {
          "base_uri": "https://localhost:8080/"
        },
        "id": "dX7uE78eyTgD",
        "outputId": "2d9b0f85-56dc-44b4-d0ee-3fe7201cd20d"
      },
      "outputs": [
        {
          "output_type": "stream",
          "name": "stdout",
          "text": [
            "{'drawer': [141, 2, 3], 'hedge': [213, 1, 6], 'pantry': [328, 1, 7]}\n"
          ]
        }
      ],
      "source": [
        "#postion of a word in a dictionary\n",
        "list_pos = [\n",
        "    ['drawer', 141, 2, 3],\n",
        "    ['hedge', 213, 1, 6],\n",
        "    ['pantry', 328, 1, 7]\n",
        "]\n",
        "\n",
        "dict_pos = {}\n",
        "for item in list_pos:\n",
        "    key = item[0]\n",
        "    values = item[1:]\n",
        "    dict_pos[key] = values\n",
        "\n",
        "print(dict_pos)\n"
      ]
    },
    {
      "cell_type": "code",
      "source": [
        "dict_pos = {item[0]: item[1:] for item in list_pos}\n",
        "print(dict_pos)"
      ],
      "metadata": {
        "id": "s2cCUs6PWCtf",
        "colab": {
          "base_uri": "https://localhost:8080/"
        },
        "outputId": "a5f87875-ab13-4db1-aed1-e9d5bdab89f5"
      },
      "execution_count": 13,
      "outputs": [
        {
          "output_type": "stream",
          "name": "stdout",
          "text": [
            "{'drawer': [141, 2, 3], 'hedge': [213, 1, 6], 'pantry': [328, 1, 7]}\n"
          ]
        }
      ]
    },
    {
      "cell_type": "markdown",
      "source": [
        "**Ques 2:** You are given the dictionary below, combine the keys(the words) and the values inside the dictionary and create a list.\n",
        "\n",
        "You output should be:\n",
        "\n",
        "\n",
        "\n",
        "```\n",
        "dictionary_pos = {\n",
        "    'drawer': [141, 2, 3],\n",
        "    'hedge': [213, 1, 6],\n",
        "    'pantry': [328, 1, 7]\n",
        "}\n",
        "\n",
        "dictionary_pos\n",
        "\n",
        "# Your output should:\n",
        "\n",
        "[['drawer', 141, 2, 3], ['hedge', 213, 1, 6], ['pantry', 328, 1, 7]]\n",
        "```\n",
        "\n",
        "Requirement: Do both traditional loops and list comprehensions."
      ],
      "metadata": {
        "id": "kPV7FgpUHdt-"
      }
    },
    {
      "cell_type": "code",
      "execution_count": 11,
      "metadata": {
        "id": "VL-scbyryTgJ",
        "colab": {
          "base_uri": "https://localhost:8080/"
        },
        "outputId": "55427851-9ab8-4f29-d174-2110f1d68c27"
      },
      "outputs": [
        {
          "output_type": "stream",
          "name": "stdout",
          "text": [
            "[['drawer', 141, 2, 3], ['hedge', 213, 1, 6], ['pantry', 328, 1, 7]]\n"
          ]
        }
      ],
      "source": [
        "#Your turn:\n",
        "#postion of a word in a dictionary\n",
        "dictionary_pos = {\n",
        "    'drawer': [141, 2, 3],\n",
        "    'hedge': [213, 1, 6],\n",
        "    'pantry': [328, 1, 7]\n",
        "}\n",
        "\n",
        "\n",
        "list_pos = []\n",
        "for key, values in dictionary_pos.items():\n",
        "    sublist = [key] + values\n",
        "    list_pos.append(sublist)\n",
        "\n",
        "print(list_pos)"
      ]
    },
    {
      "cell_type": "code",
      "execution_count": 12,
      "metadata": {
        "id": "KfZIsa9DyTgK",
        "colab": {
          "base_uri": "https://localhost:8080/"
        },
        "outputId": "182f034a-0318-4694-dc62-3a407890eed3"
      },
      "outputs": [
        {
          "output_type": "stream",
          "name": "stdout",
          "text": [
            "[['drawer', 141, 2, 3], ['hedge', 213, 1, 6], ['pantry', 328, 1, 7]]\n"
          ]
        }
      ],
      "source": [
        "# Solution\n",
        "list_pos = [[key] + values for key, values in dictionary_pos.items()]\n",
        "print(list_pos)"
      ]
    },
    {
      "cell_type": "markdown",
      "source": [
        "**Ques 3:** Use list comprehension to rewrite the code, it can be done in one line (and you do not even need an if statement)\n",
        "\n",
        "```\n",
        "result = []\n",
        "myList = list(range(0, 13))\n",
        "for i in range(6, len(myList)):\n",
        "    if i%2 == 0:\n",
        "        result.append(i)\n",
        "\n",
        "result\n",
        "```\n",
        "\n"
      ],
      "metadata": {
        "id": "cvER6YXv4Id5"
      }
    },
    {
      "cell_type": "code",
      "execution_count": 14,
      "metadata": {
        "id": "HGOnba_myTgM",
        "colab": {
          "base_uri": "https://localhost:8080/"
        },
        "outputId": "9d04ddb1-1c50-4f6a-c9a7-ac984a0d7b21"
      },
      "outputs": [
        {
          "output_type": "stream",
          "name": "stdout",
          "text": [
            "[6, 8, 10, 12]\n"
          ]
        }
      ],
      "source": [
        "result = []\n",
        "myList = list(range(0, 13))\n",
        "result = [i for i in myList[6:] if i % 2 == 0]\n",
        "print(result)"
      ]
    },
    {
      "cell_type": "markdown",
      "source": [
        "**Ques 4a:** Use the following code to perform the tasks given below:\n",
        "\n",
        "\n",
        "\n",
        "```\n",
        "set_a = {1, 2, 3, \"a\", \"b\", \"c\"}\n",
        "set_b = {2, 3, 4, \"c\", \"d\"}\n",
        "set_c = {2, 3, 'd', \"t\", \"a\"}\n",
        "```\n",
        "\n"
      ],
      "metadata": {
        "id": "H7IAbiwH4i-D"
      }
    },
    {
      "cell_type": "code",
      "execution_count": 17,
      "metadata": {
        "id": "CvrNavspyTgN",
        "colab": {
          "base_uri": "https://localhost:8080/"
        },
        "outputId": "43a6202c-47c3-4927-dc22-ad0d1b7d064b"
      },
      "outputs": [
        {
          "output_type": "stream",
          "name": "stdout",
          "text": [
            "['t', 'd']\n"
          ]
        }
      ],
      "source": [
        "set_a = {1, 2, 3, \"a\", \"b\", \"c\"}\n",
        "set_b = {2, 3, 4, \"c\", \"d\"}\n",
        "set_c = {2, 3, 'd', \"t\", \"a\"}\n",
        "\n",
        "# The follow code is supposed to return the different elements in both sets of union_ab and set_a but not both of them.\n",
        "difference_A = []\n",
        "for a in set_c:\n",
        "    if not(a in set_a):\n",
        "        difference_A.append(a)\n",
        "\n",
        "print(difference_A)"
      ]
    },
    {
      "cell_type": "code",
      "source": [
        "# Elements that occur just in set c and not in set a\n",
        "difference_A = set_c - set_a\n",
        "print(difference_A)"
      ],
      "metadata": {
        "colab": {
          "base_uri": "https://localhost:8080/"
        },
        "id": "iL4GrbZknT_y",
        "outputId": "6f4a7f9e-4058-4d9d-8ea2-09a374a918dd"
      },
      "execution_count": 18,
      "outputs": [
        {
          "output_type": "stream",
          "name": "stdout",
          "text": [
            "{'t', 'd'}\n"
          ]
        }
      ]
    },
    {
      "cell_type": "markdown",
      "source": [
        "**Ques 4b:** This piece of code will work the same as which of the following options:\n",
        "\n",
        "\n",
        "```\n",
        "difference_A = []\n",
        "for a in set_c:\n",
        "  if(not(a in set_a)):\n",
        "    difference_A.append(a)\n",
        "\n",
        "print(difference_A)\n",
        "```\n",
        "\n"
      ],
      "metadata": {
        "id": "E7LmZQwT5Mhr"
      }
    },
    {
      "cell_type": "code",
      "execution_count": 20,
      "metadata": {
        "id": "FvUCzqZuyTgN",
        "colab": {
          "base_uri": "https://localhost:8080/"
        },
        "outputId": "8e4f3a0a-d7ff-4674-8060-a0ffe224c64e"
      },
      "outputs": [
        {
          "output_type": "stream",
          "name": "stdout",
          "text": [
            "['t', 'd']\n"
          ]
        }
      ],
      "source": [
        "difference_A = []\n",
        "for a in set_c:\n",
        "  if(not(a in set_a)):\n",
        "    difference_A.append(a)\n",
        "\n",
        "print(difference_A)\n",
        "\n",
        "#B) difference = set_a - union_ab"
      ]
    },
    {
      "cell_type": "markdown",
      "metadata": {
        "id": "i1TTuNdgyTgO"
      },
      "source": [
        "**Ques 5:** A procedural function called GC_content(data).\n",
        "Find the GC percentage for each of the elements in dna_list.\n",
        "data is the list, dna_list."
      ]
    },
    {
      "cell_type": "code",
      "execution_count": 23,
      "metadata": {
        "id": "awvBHjfFyTgO"
      },
      "outputs": [],
      "source": [
        "dna_list = ['GAAGTC', 'CGATATGC', 'GTCA', 'CGGACAGTAG']\n"
      ]
    },
    {
      "cell_type": "code",
      "execution_count": 26,
      "metadata": {
        "id": "NL90n2TOyTgO",
        "colab": {
          "base_uri": "https://localhost:8080/"
        },
        "outputId": "a6ceff02-612b-4131-b4ae-d6caa03d92d8"
      },
      "outputs": [
        {
          "output_type": "stream",
          "name": "stdout",
          "text": [
            "GAAGTC: 50.0\n",
            "CGATATGC: 50.0\n",
            "GTCA: 50.0\n",
            "CGGACAGTAG: 60.0\n"
          ]
        }
      ],
      "source": [
        "def GC_content(data):\n",
        "    for dna in data:\n",
        "        gc_count = dna.count('G') + dna.count('C')\n",
        "        gc_percentage = (gc_count / len(dna)) * 100\n",
        "        print(f\"{dna}: {gc_percentage:.1f}\")\n",
        "\n",
        "GC_content(dna_list)"
      ]
    }
  ],
  "metadata": {
    "hide_input": false,
    "kernelspec": {
      "display_name": "Python 3",
      "language": "python",
      "name": "python3"
    },
    "language_info": {
      "codemirror_mode": {
        "name": "ipython",
        "version": 3
      },
      "file_extension": ".py",
      "mimetype": "text/x-python",
      "name": "python",
      "nbconvert_exporter": "python",
      "pygments_lexer": "ipython3",
      "version": "3.8.3"
    },
    "toc": {
      "base_numbering": 1,
      "nav_menu": {},
      "number_sections": true,
      "sideBar": true,
      "skip_h1_title": false,
      "title_cell": "Table of Contents",
      "title_sidebar": "Contents",
      "toc_cell": false,
      "toc_position": {},
      "toc_section_display": true,
      "toc_window_display": false
    },
    "colab": {
      "provenance": []
    }
  },
  "nbformat": 4,
  "nbformat_minor": 0
}